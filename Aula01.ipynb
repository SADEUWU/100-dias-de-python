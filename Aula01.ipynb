{
 "cells": [
  {
   "cell_type": "markdown",
   "id": "081ecefa-1e59-41d3-841b-8df0f596075d",
   "metadata": {},
   "source": [
    "## Aula 01"
   ]
  },
  {
   "cell_type": "markdown",
   "id": "2ce1d829-4c59-473a-8427-f6a02594e0b4",
   "metadata": {},
   "source": [
    "### Comandos Mágicos"
   ]
  },
  {
   "cell_type": "code",
   "execution_count": 40,
   "id": "d2743cab-a49d-4390-9274-6239e1e53dbe",
   "metadata": {},
   "outputs": [
    {
     "name": "stdout",
     "output_type": "stream",
     "text": [
      "Python 3.9.2\n"
     ]
    }
   ],
   "source": [
    "!python --version"
   ]
  },
  {
   "cell_type": "code",
   "execution_count": 6,
   "id": "5e036d3a-9608-4f33-8803-86353388ac1e",
   "metadata": {},
   "outputs": [
    {
     "name": "stdout",
     "output_type": "stream",
     "text": [
      "Requirement already satisfied: numpy in /usr/local/lib/python3.9/dist-packages (1.26.4)\n",
      "Collecting numpy\n",
      "  Downloading numpy-2.0.2-cp39-cp39-manylinux_2_17_x86_64.manylinux2014_x86_64.whl (19.5 MB)\n",
      "\u001b[K     |████████████████████████████████| 19.5 MB 3.2 MB/s eta 0:00:01\n",
      "\u001b[?25hInstalling collected packages: numpy\n",
      "  Attempting uninstall: numpy\n",
      "    Found existing installation: numpy 1.26.4\n",
      "    Uninstalling numpy-1.26.4:\n",
      "      Successfully uninstalled numpy-1.26.4\n",
      "\u001b[31mERROR: pip's dependency resolver does not currently take into account all the packages that are installed. This behaviour is the source of the following dependency conflicts.\n",
      "pymc3 3.11.5 requires numpy<1.22.2,>=1.15.0, but you have numpy 2.0.2 which is incompatible.\n",
      "pymc3 3.11.5 requires scipy<1.8.0,>=1.7.3, but you have scipy 1.13.0 which is incompatible.\u001b[0m\n",
      "Successfully installed numpy-2.0.2\n"
     ]
    }
   ],
   "source": [
    "!pip install -U numpy"
   ]
  },
  {
   "cell_type": "code",
   "execution_count": 7,
   "id": "98f17b1a-36e3-449c-a44a-f73f30a6c900",
   "metadata": {},
   "outputs": [],
   "source": [
    "from platform import python_version"
   ]
  },
  {
   "cell_type": "code",
   "execution_count": 8,
   "id": "3dcf0d4d-6754-47d5-841f-e930888757c7",
   "metadata": {},
   "outputs": [
    {
     "name": "stdout",
     "output_type": "stream",
     "text": [
      "3.9.2\n"
     ]
    }
   ],
   "source": [
    "print(python_version())"
   ]
  },
  {
   "cell_type": "markdown",
   "id": "87656a81-bff5-46c2-8a64-e097606244dd",
   "metadata": {},
   "source": [
    "## Tipo primitivos"
   ]
  },
  {
   "cell_type": "code",
   "execution_count": 14,
   "id": "1617c73f-99a5-4820-842b-7f0bb9d56e17",
   "metadata": {},
   "outputs": [
    {
     "name": "stdout",
     "output_type": "stream",
     "text": [
      "<class 'int'>\n",
      "<class 'float'>\n",
      "<class 'str'>\n",
      "<class 'NoneType'>\n",
      "<class 'bool'>\n",
      "<class 'list'>\n",
      "<class 'tuple'>\n",
      "<class 'dict'>\n",
      "<class 'set'>\n"
     ]
    },
    {
     "ename": "NameError",
     "evalue": "name 'hello' is not defined",
     "output_type": "error",
     "traceback": [
      "\u001b[0;31m---------------------------------------------------------------------------\u001b[0m",
      "\u001b[0;31mNameError\u001b[0m                                 Traceback (most recent call last)",
      "Cell \u001b[0;32mIn[14], line 10\u001b[0m\n\u001b[1;32m      8\u001b[0m \u001b[38;5;28mprint\u001b[39m(\u001b[38;5;28mtype\u001b[39m({})) \u001b[38;5;66;03m# Dict \u001b[39;00m\n\u001b[1;32m      9\u001b[0m \u001b[38;5;28mprint\u001b[39m(\u001b[38;5;28mtype\u001b[39m({\u001b[38;5;241m0\u001b[39m})) \u001b[38;5;66;03m# Set \u001b[39;00m\n\u001b[0;32m---> 10\u001b[0m \u001b[38;5;28mprint\u001b[39m(\u001b[38;5;28mtype\u001b[39m(\u001b[43mhello\u001b[49m)) \n",
      "\u001b[0;31mNameError\u001b[0m: name 'hello' is not defined"
     ]
    }
   ],
   "source": [
    "print(type(23))\n",
    "print(type(23.3))\n",
    "print(type(\"Hello\"))\n",
    "print(type(None))\n",
    "print(type(False))\n",
    "print(type([])) # List\n",
    "print(type(())) # Tuple\n",
    "print(type({})) # Dict \n",
    "print(type({0})) # Set"
   ]
  },
  {
   "cell_type": "code",
   "execution_count": 17,
   "id": "9f654b45-a545-43fe-9d07-912cf2bc660c",
   "metadata": {},
   "outputs": [
    {
     "name": "stdin",
     "output_type": "stream",
     "text": [
      "Digite um número 10.0\n"
     ]
    },
    {
     "name": "stdout",
     "output_type": "stream",
     "text": [
      "10.0\n",
      "False\n",
      "False\n"
     ]
    }
   ],
   "source": [
    "val = input(\"Digite um número\")\n",
    "print(val)\n",
    "print(val.isdecimal())\n",
    "print(val.isnumeric())"
   ]
  },
  {
   "cell_type": "code",
   "execution_count": 19,
   "id": "39043636-7fd4-4e5e-8207-b29d2198d0e9",
   "metadata": {},
   "outputs": [
    {
     "name": "stdout",
     "output_type": "stream",
     "text": [
      "<class 'str'>\n"
     ]
    }
   ],
   "source": [
    "a = \"23\"\n",
    "print(type(a))\n",
    "b = int(a)"
   ]
  },
  {
   "cell_type": "code",
   "execution_count": 27,
   "id": "fcf271a7-c204-4589-a015-cebce08190fc",
   "metadata": {},
   "outputs": [
    {
     "name": "stdout",
     "output_type": "stream",
     "text": [
      "Digite um valor\n"
     ]
    },
    {
     "name": "stdin",
     "output_type": "stream",
     "text": [
      "4.5 45\n"
     ]
    },
    {
     "name": "stdout",
     "output_type": "stream",
     "text": [
      "<class 'int'>\n"
     ]
    }
   ],
   "source": [
    "print(\"Digite um valor\")\n",
    "a = eval(input(a))\n",
    "print(type(a))"
   ]
  },
  {
   "cell_type": "markdown",
   "id": "28bc54f9-8f01-4dfc-8026-448206f32f1d",
   "metadata": {},
   "source": [
    "## Pacote Math"
   ]
  },
  {
   "cell_type": "code",
   "execution_count": 30,
   "id": "e2420783-1095-4bfc-81f2-b6f679314db2",
   "metadata": {},
   "outputs": [
    {
     "name": "stdout",
     "output_type": "stream",
     "text": [
      "A area e  153.93804002589985\n",
      "3.141592653589793\n"
     ]
    }
   ],
   "source": [
    "import math\n",
    "\n",
    "r = 7\n",
    "print(\"A area e \", r * r * math.pi)\n",
    "print(math.pi)"
   ]
  },
  {
   "cell_type": "markdown",
   "id": "d8c69785-2d88-47cf-8a74-aa96041f63a4",
   "metadata": {},
   "source": [
    "## Sys(tem)"
   ]
  },
  {
   "cell_type": "code",
   "execution_count": 31,
   "id": "3b705d52-7a86-4718-bf21-2a78c46895fb",
   "metadata": {},
   "outputs": [],
   "source": [
    "import sys"
   ]
  },
  {
   "cell_type": "code",
   "execution_count": 37,
   "id": "fc793ed3-d49b-4392-947d-b74a2012057b",
   "metadata": {},
   "outputs": [
    {
     "name": "stdout",
     "output_type": "stream",
     "text": [
      "/usr/bin/python3\n",
      "linux\n",
      "3.9.2 (default, Feb 28 2021, 17:03:44) \n",
      "[GCC 10.2.1 20210110]\n"
     ]
    }
   ],
   "source": [
    "print(sys.executable)\n",
    "print(sys.platform)\n",
    "print(sys.version)"
   ]
  },
  {
   "cell_type": "code",
   "execution_count": 41,
   "id": "e6b79937-85a6-456c-89d4-e0e0f6034981",
   "metadata": {},
   "outputs": [
    {
     "name": "stdout",
     "output_type": "stream",
     "text": [
      "/usr/local/lib/python3.9/dist-packages/ipykernel_launcher.py\n"
     ]
    }
   ],
   "source": [
    "print(sys.argv[0])"
   ]
  },
  {
   "cell_type": "code",
   "execution_count": 42,
   "id": "5972382e-1066-464f-91c1-465583824980",
   "metadata": {},
   "outputs": [
    {
     "name": "stdout",
     "output_type": "stream",
     "text": [
      "3\n"
     ]
    }
   ],
   "source": [
    "print(10 // 3)"
   ]
  },
  {
   "cell_type": "code",
   "execution_count": 43,
   "id": "84f4ae05-a29e-4708-8095-ecbf37d33aba",
   "metadata": {},
   "outputs": [
    {
     "name": "stdout",
     "output_type": "stream",
     "text": [
      "positivo\n"
     ]
    }
   ],
   "source": [
    "x = 3\n",
    "if x > 0:\n",
    "    resp = \"positivo\"\n",
    "else:\n",
    "    resp = \"negativo\"\n",
    "\n",
    "print(resp)"
   ]
  },
  {
   "cell_type": "code",
   "execution_count": 44,
   "id": "1397343f-7da9-42e5-953b-66152cb491f0",
   "metadata": {},
   "outputs": [
    {
     "name": "stdout",
     "output_type": "stream",
     "text": [
      "positivo\n"
     ]
    }
   ],
   "source": [
    "x = 3\n",
    "# resp = (x > 0)?\"positivo\":\"negativo\";\n",
    "resp = \"positivo\" if x > 0 else \"negativo\"\n",
    "print(resp)"
   ]
  },
  {
   "cell_type": "markdown",
   "id": "46f7ab97-35cd-4ed3-8610-056564f018c2",
   "metadata": {},
   "source": [
    "### Randômicos"
   ]
  },
  {
   "cell_type": "code",
   "execution_count": 56,
   "id": "522a86ae-904b-4da7-b2c2-033e114e6191",
   "metadata": {},
   "outputs": [
    {
     "name": "stdout",
     "output_type": "stream",
     "text": [
      "5\n"
     ]
    }
   ],
   "source": [
    "import random\n",
    "\n",
    "# >= 0.0 e < 1.0\n",
    "a = random.random()\n",
    "print(1 + int(6 * random.random()))"
   ]
  },
  {
   "cell_type": "markdown",
   "id": "421bd8c5-8bca-4781-9da8-4cd590b078e8",
   "metadata": {},
   "source": [
    "### Formatação"
   ]
  },
  {
   "cell_type": "code",
   "execution_count": 64,
   "id": "9e5abe63-1ff3-47fc-bbec-c1092e2cb71d",
   "metadata": {},
   "outputs": [
    {
     "name": "stdout",
     "output_type": "stream",
     "text": [
      "O usuário Joao nasceu em 15\n",
      "O usuário Joao nasceu em 15\n",
      "O usuário Joao nasceu em 15\n"
     ]
    }
   ],
   "source": [
    "nome = \"Joao\"\n",
    "idade = 15\n",
    "# str_cont = \"O usuário \" + nome + \" nasceu em \" + str(idade)\n",
    "str_cont = \"O usuário %s nasceu em %d\" % (nome, idade)\n",
    "print(str_cont)\n",
    "str_cont = \"O usuário {0} nasceu em {1}\".format(nome, idade)\n",
    "print(str_cont)\n",
    "str_cont = f\"O usuário {nome} nasceu em {idade}\"\n",
    "print(str_cont)"
   ]
  },
  {
   "cell_type": "code",
   "execution_count": null,
   "id": "ea367bd5-4d87-4bcb-aab8-5f880c837ffe",
   "metadata": {},
   "outputs": [],
   "source": []
  }
 ],
 "metadata": {
  "kernelspec": {
   "display_name": "Python 3 (ipykernel)",
   "language": "python",
   "name": "python3"
  },
  "language_info": {
   "codemirror_mode": {
    "name": "ipython",
    "version": 3
   },
   "file_extension": ".py",
   "mimetype": "text/x-python",
   "name": "python",
   "nbconvert_exporter": "python",
   "pygments_lexer": "ipython3",
   "version": "3.9.2"
  }
 },
 "nbformat": 4,
 "nbformat_minor": 5
}
