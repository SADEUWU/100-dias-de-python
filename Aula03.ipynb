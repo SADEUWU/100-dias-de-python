{
 "cells": [
  {
   "cell_type": "markdown",
   "id": "8a1a33c9-9878-48b4-bf86-3cfc645cc2d5",
   "metadata": {},
   "source": [
    "# Python II - Aula 03\n",
    "\n",
    "- Decorators\n",
    "- Múltiplos retornos\n",
    "- Coleções"
   ]
  },
  {
   "cell_type": "markdown",
   "id": "a635eb88-5795-4c3e-83be-90c7994a95ef",
   "metadata": {},
   "source": [
    "## Decorators"
   ]
  },
  {
   "cell_type": "code",
   "execution_count": 1,
   "id": "1c41f520-4a4b-476f-ab4f-1dd4f0a23588",
   "metadata": {},
   "outputs": [],
   "source": [
    "def hi(name=\"Yaksoba\"):\n",
    "    return \"Olá, vamos comer um \" + name"
   ]
  },
  {
   "cell_type": "code",
   "execution_count": 2,
   "id": "483218c7-3883-4125-91fe-8b0c227d74c0",
   "metadata": {},
   "outputs": [],
   "source": [
    "greet = hi"
   ]
  },
  {
   "cell_type": "code",
   "execution_count": 3,
   "id": "627d2f77-aeae-407b-aeff-94bb2a153a7d",
   "metadata": {},
   "outputs": [
    {
     "name": "stdout",
     "output_type": "stream",
     "text": [
      "Olá, vamos comer um Yaksoba\n"
     ]
    }
   ],
   "source": [
    "print(hi())"
   ]
  },
  {
   "cell_type": "code",
   "execution_count": 4,
   "id": "d7b48a09-77ad-44df-8821-653f21dde217",
   "metadata": {},
   "outputs": [
    {
     "name": "stdout",
     "output_type": "stream",
     "text": [
      "Olá, vamos comer um Yaksoba\n"
     ]
    }
   ],
   "source": [
    "print(greet())"
   ]
  },
  {
   "cell_type": "code",
   "execution_count": 5,
   "id": "97da4dc1-7844-4f2e-96c8-e0c4fe587956",
   "metadata": {},
   "outputs": [],
   "source": [
    "del hi"
   ]
  },
  {
   "cell_type": "code",
   "execution_count": 7,
   "id": "168c975f-bb0a-4f43-8635-7f10e89a4d18",
   "metadata": {},
   "outputs": [
    {
     "name": "stdout",
     "output_type": "stream",
     "text": [
      "Olá, vamos comer um Yaksoba\n"
     ]
    }
   ],
   "source": [
    "print(greet())"
   ]
  },
  {
   "cell_type": "code",
   "execution_count": 8,
   "id": "7668bd3d-18d9-486f-b5d7-76f024cf9ae7",
   "metadata": {},
   "outputs": [],
   "source": [
    "# funções com funções"
   ]
  },
  {
   "cell_type": "code",
   "execution_count": 9,
   "id": "8759f515-9ab8-4f1d-943d-2a3fc36cb69c",
   "metadata": {},
   "outputs": [],
   "source": [
    "def hi(name=\"Joao\"):\n",
    "    def greet():\n",
    "        return \" agora na subfunção greet()\"\n",
    "    def welcome():\n",
    "        return \" agora na subfunção welcome()\"\n",
    "\n",
    "    print(\"Estamos na função hi()\")\n",
    "    print(greet())\n",
    "    print(welcome())"
   ]
  },
  {
   "cell_type": "code",
   "execution_count": 10,
   "id": "ecfba2c9-8457-44d1-9330-34911a62fed1",
   "metadata": {},
   "outputs": [
    {
     "name": "stdout",
     "output_type": "stream",
     "text": [
      "Estamos na função hi()\n",
      " agora na subfunção greet()\n",
      " agora na subfunção welcome()\n"
     ]
    }
   ],
   "source": [
    "hi()"
   ]
  },
  {
   "cell_type": "code",
   "execution_count": 38,
   "id": "ec5aa9ae-7c2a-49ea-8c15-836e725ad982",
   "metadata": {},
   "outputs": [],
   "source": [
    "def hi(name=\"Joao\"):\n",
    "    def greet():\n",
    "        return \" agora na subfunção greet(A)\"\n",
    "    if name == \"Joao\":\n",
    "        return greet\n",
    "    else:\n",
    "        a = hi()\n",
    "        print(a())\n",
    "    return \"\""
   ]
  },
  {
   "cell_type": "code",
   "execution_count": 39,
   "id": "9bb02676-a1dd-45b9-89e7-3dbb05d298af",
   "metadata": {},
   "outputs": [
    {
     "name": "stdout",
     "output_type": "stream",
     "text": [
      " agora na subfunção greet(A)\n",
      "\n"
     ]
    }
   ],
   "source": [
    "print(hi(\"Maria\"))"
   ]
  },
  {
   "cell_type": "code",
   "execution_count": 14,
   "id": "e83f5387-8eaf-4705-9de7-513ab63d52fd",
   "metadata": {},
   "outputs": [
    {
     "name": "stdout",
     "output_type": "stream",
     "text": [
      "<function x at 0x77d78236dd30>\n"
     ]
    }
   ],
   "source": [
    "def x():\n",
    "    return \"a\"\n",
    "\n",
    "print(x)"
   ]
  },
  {
   "cell_type": "code",
   "execution_count": 40,
   "id": "e76a06b2-81df-4e78-b214-615276868f58",
   "metadata": {},
   "outputs": [],
   "source": [
    "# Decorator como Pattern"
   ]
  },
  {
   "cell_type": "code",
   "execution_count": 54,
   "id": "454d3268-ea08-4c3b-bb86-71fde0d2bb02",
   "metadata": {},
   "outputs": [],
   "source": [
    "def dec_func(a_func):\n",
    "    def wrap():\n",
    "        print(\"Estou iniciando def_func\")\n",
    "        a_func()\n",
    "        print(\"Estou terminando def_func\")\n",
    "    return wrap"
   ]
  },
  {
   "cell_type": "code",
   "execution_count": 52,
   "id": "ab94a702-e5cc-449e-8318-81826fdf9bac",
   "metadata": {},
   "outputs": [],
   "source": [
    "@dec_func\n",
    "def rec_func():\n",
    "    print(\"Estou na REC_FUNC()\")"
   ]
  },
  {
   "cell_type": "code",
   "execution_count": 53,
   "id": "16aa4e30-3fef-4daa-a409-d25d8f2a1f06",
   "metadata": {},
   "outputs": [
    {
     "name": "stdout",
     "output_type": "stream",
     "text": [
      "Estou iniciando def_func\n",
      "Estou na REC_FUNC()\n",
      "Estou terminando def_func\n"
     ]
    }
   ],
   "source": [
    "rec_func()"
   ]
  },
  {
   "cell_type": "code",
   "execution_count": 55,
   "id": "e12e98c6-82fc-4cad-8007-548bdc0632db",
   "metadata": {},
   "outputs": [
    {
     "name": "stdout",
     "output_type": "stream",
     "text": [
      "wrap\n",
      "dec_func\n"
     ]
    }
   ],
   "source": [
    "print(rec_func.__name__)\n",
    "print(dec_func.__name__)"
   ]
  },
  {
   "cell_type": "code",
   "execution_count": 56,
   "id": "b90b04e6-1403-422f-ad7e-3bbbf3009145",
   "metadata": {},
   "outputs": [],
   "source": [
    "# Corrigir o Wrap\n",
    "\n",
    "from functools import wraps\n",
    "\n",
    "def b_dec(a_func):\n",
    "    @wraps(a_func)\n",
    "    def wrapAFuncao():\n",
    "        print(\"Estou iniciando def_func\")\n",
    "        a_func()\n",
    "        print(\"Estou terminando def_func\")\n",
    "\n",
    "    return wrapAFuncao()"
   ]
  },
  {
   "cell_type": "code",
   "execution_count": 71,
   "id": "23a58722-38c4-48f1-821b-43cb3a0d9279",
   "metadata": {},
   "outputs": [
    {
     "name": "stdout",
     "output_type": "stream",
     "text": [
      "Estou iniciando def_func\n",
      "Eu sou a função de meio de caminho\n",
      "Estou terminando def_func\n"
     ]
    }
   ],
   "source": [
    "@b_dec\n",
    "def req_dec():\n",
    "    print(\"Eu sou a função de meio de caminho\")"
   ]
  },
  {
   "cell_type": "code",
   "execution_count": 73,
   "id": "4f6cdcf8-ad41-4407-8466-14d78fc8554b",
   "metadata": {},
   "outputs": [
    {
     "ename": "AttributeError",
     "evalue": "'NoneType' object has no attribute '__name__'",
     "output_type": "error",
     "traceback": [
      "\u001b[0;31m---------------------------------------------------------------------------\u001b[0m",
      "\u001b[0;31mAttributeError\u001b[0m                            Traceback (most recent call last)",
      "Cell \u001b[0;32mIn[73], line 1\u001b[0m\n\u001b[0;32m----> 1\u001b[0m \u001b[38;5;28mprint\u001b[39m(\u001b[43mreq_dec\u001b[49m\u001b[38;5;241;43m.\u001b[39;49m\u001b[38;5;18;43m__name__\u001b[39;49m)\n",
      "\u001b[0;31mAttributeError\u001b[0m: 'NoneType' object has no attribute '__name__'"
     ]
    }
   ],
   "source": [
    "print(req_dec.__name__)"
   ]
  },
  {
   "cell_type": "markdown",
   "id": "20b3c0fb-4fce-42c3-be5f-679fa6031876",
   "metadata": {},
   "source": [
    "## Múltiplos Retornos"
   ]
  },
  {
   "cell_type": "code",
   "execution_count": 82,
   "id": "544b4c97-73ad-423b-9dd0-26505a125b04",
   "metadata": {},
   "outputs": [],
   "source": [
    "# NÃO fazer desta forma\n",
    "def profile():\n",
    "    global name\n",
    "    global age\n",
    "    name = \"bunny\"\n",
    "    age = 30"
   ]
  },
  {
   "cell_type": "code",
   "execution_count": 80,
   "id": "11ac8d1b-3a8e-4b18-921d-1f6dafc25db3",
   "metadata": {},
   "outputs": [],
   "source": [
    "profile()"
   ]
  },
  {
   "cell_type": "code",
   "execution_count": 81,
   "id": "154b5eaa-ba79-4879-94e1-fbf383ed07f2",
   "metadata": {},
   "outputs": [
    {
     "name": "stdout",
     "output_type": "stream",
     "text": [
      "bunny\n",
      "30\n"
     ]
    }
   ],
   "source": [
    "print(name)\n",
    "print(age)"
   ]
  },
  {
   "cell_type": "code",
   "execution_count": 84,
   "id": "764046f1-f7cc-451f-9e33-8b882fe908e0",
   "metadata": {},
   "outputs": [],
   "source": [
    "def profile():\n",
    "    nameB = \"Bunny\"\n",
    "    ageB = 30\n",
    "    return (nameB, ageB)"
   ]
  },
  {
   "cell_type": "code",
   "execution_count": 85,
   "id": "bbb525d8-ba3e-418f-bc67-640b4bcb779b",
   "metadata": {},
   "outputs": [],
   "source": [
    "var_profile = profile()"
   ]
  },
  {
   "cell_type": "code",
   "execution_count": 87,
   "id": "577736df-2ac6-4704-8ac9-3f2c472c2ac4",
   "metadata": {},
   "outputs": [
    {
     "name": "stdout",
     "output_type": "stream",
     "text": [
      "Bunny\n",
      "30\n"
     ]
    }
   ],
   "source": [
    "print(var_profile[0])\n",
    "print(var_profile[1])"
   ]
  },
  {
   "cell_type": "code",
   "execution_count": 88,
   "id": "290fa95e-f852-4957-9640-f422dfca0da8",
   "metadata": {},
   "outputs": [],
   "source": [
    "# Faz isso\n",
    "def profile():\n",
    "    nameC = \"bunny\"\n",
    "    ageC = 30\n",
    "    return nameC, ageC"
   ]
  },
  {
   "cell_type": "code",
   "execution_count": 89,
   "id": "520f5254-61e9-499d-887a-ffe505aff0c6",
   "metadata": {},
   "outputs": [],
   "source": [
    "prof_name, prof_age = profile()"
   ]
  },
  {
   "cell_type": "code",
   "execution_count": 91,
   "id": "eb24aa97-a0bb-489d-85a2-0f2fe80e7846",
   "metadata": {},
   "outputs": [
    {
     "name": "stdout",
     "output_type": "stream",
     "text": [
      "bunny\n",
      "30\n"
     ]
    }
   ],
   "source": [
    "print(prof_name)\n",
    "print(prof_age)"
   ]
  },
  {
   "cell_type": "code",
   "execution_count": 92,
   "id": "88fc0744-7898-4410-91be-88fe006b8c21",
   "metadata": {},
   "outputs": [],
   "source": [
    "# NamedTuple\n",
    "from collections import namedtuple\n",
    "\n",
    "def profile():\n",
    "    Person = namedtuple('Person', 'name age')\n",
    "    return Person(name=\"Bunny\", age=30)"
   ]
  },
  {
   "cell_type": "code",
   "execution_count": 93,
   "id": "fe5823d7-9e73-4d80-a830-09125e726ef7",
   "metadata": {},
   "outputs": [],
   "source": [
    "p = profile()"
   ]
  },
  {
   "cell_type": "code",
   "execution_count": 95,
   "id": "6fb6cb2b-3f06-41e0-b21f-a0f4d34b515d",
   "metadata": {},
   "outputs": [
    {
     "name": "stdout",
     "output_type": "stream",
     "text": [
      "Person(name='Bunny', age=30)\n",
      "<class '__main__.Person'>\n"
     ]
    }
   ],
   "source": [
    "print(p)\n",
    "print(type(p))"
   ]
  },
  {
   "cell_type": "code",
   "execution_count": 97,
   "id": "817e150d-6db3-47a9-987c-a2b0038a2f4d",
   "metadata": {},
   "outputs": [
    {
     "name": "stdout",
     "output_type": "stream",
     "text": [
      "Bunny\n",
      "30\n"
     ]
    }
   ],
   "source": [
    "print(p.name)\n",
    "print(p.age)"
   ]
  },
  {
   "cell_type": "code",
   "execution_count": 99,
   "id": "cf6ae78f-f298-4ff3-b645-4ed5a35d4eb3",
   "metadata": {},
   "outputs": [
    {
     "name": "stdout",
     "output_type": "stream",
     "text": [
      "Bunny\n",
      "30\n"
     ]
    }
   ],
   "source": [
    "print(p[0])\n",
    "print(p[1])"
   ]
  },
  {
   "cell_type": "code",
   "execution_count": 100,
   "id": "bfb2565b-dd52-462d-a51f-907bd020f3ca",
   "metadata": {},
   "outputs": [
    {
     "name": "stdout",
     "output_type": "stream",
     "text": [
      "Bunny\n",
      "30\n"
     ]
    }
   ],
   "source": [
    "n, a = profile()\n",
    "print(n)\n",
    "print(a)"
   ]
  },
  {
   "cell_type": "markdown",
   "id": "677b4932-d798-478d-b75b-695f99560bd5",
   "metadata": {},
   "source": [
    "## Mutação"
   ]
  },
  {
   "cell_type": "code",
   "execution_count": 101,
   "id": "aa89e0fd-7ee4-44a0-ae6c-7ef2c4ca8f85",
   "metadata": {},
   "outputs": [
    {
     "name": "stdout",
     "output_type": "stream",
     "text": [
      "['hi']\n"
     ]
    }
   ],
   "source": [
    "foo = ['hi']\n",
    "print(foo)"
   ]
  },
  {
   "cell_type": "code",
   "execution_count": 104,
   "id": "8962cda6-b7d4-4440-82f0-67867079604d",
   "metadata": {},
   "outputs": [
    {
     "name": "stdout",
     "output_type": "stream",
     "text": [
      "['hi', 'hi2', 'hi2', 'hi2']\n",
      "['hi', 'hi2', 'hi2', 'hi2']\n"
     ]
    }
   ],
   "source": [
    "bar = foo\n",
    "bar += ['hi2']\n",
    "print(foo)\n",
    "print(bar)"
   ]
  },
  {
   "cell_type": "code",
   "execution_count": 105,
   "id": "750acda5-0e39-494e-88bb-f1f615b818bd",
   "metadata": {},
   "outputs": [],
   "source": [
    "def add_tst(num, target=[]):\n",
    "    target.append(num)\n",
    "    return target"
   ]
  },
  {
   "cell_type": "code",
   "execution_count": 106,
   "id": "2b188e95-71e8-45f6-91c2-522796467400",
   "metadata": {},
   "outputs": [
    {
     "name": "stdout",
     "output_type": "stream",
     "text": [
      "[1]\n"
     ]
    }
   ],
   "source": [
    "print(add_tst(1))"
   ]
  },
  {
   "cell_type": "code",
   "execution_count": 107,
   "id": "d1e76ff3-dee5-4754-826f-975eb9d0fb0b",
   "metadata": {},
   "outputs": [
    {
     "name": "stdout",
     "output_type": "stream",
     "text": [
      "[1, 2]\n"
     ]
    }
   ],
   "source": [
    "print(add_tst(2))"
   ]
  },
  {
   "cell_type": "code",
   "execution_count": 110,
   "id": "29d5a696-15fc-4962-b0ba-bcbf4b527952",
   "metadata": {},
   "outputs": [],
   "source": [
    "def add_tst(element, target=None):\n",
    "    if target is None:\n",
    "        target = []\n",
    "    target.append(element)\n",
    "    return target"
   ]
  },
  {
   "cell_type": "code",
   "execution_count": 115,
   "id": "9b454fee-61a6-4d63-b9ed-8b31292c73d4",
   "metadata": {},
   "outputs": [
    {
     "name": "stdout",
     "output_type": "stream",
     "text": [
      "[1]\n",
      "[2]\n",
      "[3]\n"
     ]
    }
   ],
   "source": [
    "print(add_tst(1))\n",
    "print(add_tst(2))\n",
    "print(add_tst(3))"
   ]
  },
  {
   "cell_type": "code",
   "execution_count": 114,
   "id": "dab65c8f-cce1-4bcf-bac6-3bd25a9748bc",
   "metadata": {},
   "outputs": [
    {
     "name": "stdout",
     "output_type": "stream",
     "text": [
      "[2]\n"
     ]
    }
   ],
   "source": [
    "print(add_tst(2))"
   ]
  },
  {
   "cell_type": "markdown",
   "id": "22c7de7e-b58b-4f2d-a2c3-be38b8305a29",
   "metadata": {},
   "source": [
    "## _ _ slots _ _"
   ]
  },
  {
   "cell_type": "code",
   "execution_count": 124,
   "id": "45532f9a-e4c1-4625-b1b0-e4efdbb69eca",
   "metadata": {},
   "outputs": [],
   "source": [
    "# sem slots\n",
    "class MinhaClasse(object):\n",
    "    def __init__(self, name, identifier):\n",
    "        self.name = name\n",
    "        self.identifier = identifier\n",
    "        # self.set_up()"
   ]
  },
  {
   "cell_type": "code",
   "execution_count": 125,
   "id": "1a318b2e-43b0-484a-ab0f-117e210cfc21",
   "metadata": {},
   "outputs": [],
   "source": [
    "class MinhaClasse(object):\n",
    "    __slots__ = ['name', 'identifier']\n",
    "    \n",
    "    def __init__(self, name, identifier):\n",
    "        self.name = name\n",
    "        self.identifier = identifier\n",
    "        # self.set_up()"
   ]
  },
  {
   "cell_type": "markdown",
   "id": "4c4a781d-a48c-4aa6-a9fb-630a5b64c00e",
   "metadata": {},
   "source": [
    "## Coleções"
   ]
  },
  {
   "cell_type": "markdown",
   "id": "5a5eda18-168e-4797-a032-12b8e9a69bbd",
   "metadata": {},
   "source": [
    "### defaultdict"
   ]
  },
  {
   "cell_type": "code",
   "execution_count": 135,
   "id": "ae06110c-b3a3-4d21-994d-7c8a8a09d0ad",
   "metadata": {},
   "outputs": [
    {
     "name": "stdout",
     "output_type": "stream",
     "text": [
      "defaultdict(<class 'list'>, {'Yaksoba': ['Yellow', 'Black'], 'Barata': ['Blue', 'Red'], 'Amazona': ['A-Grey']})\n"
     ]
    }
   ],
   "source": [
    "from collections import defaultdict\n",
    "cores = (\n",
    "    ('Yaksoba', 'Yellow'),\n",
    "    ('Barata', 'Blue'),\n",
    "    ('Amazona', 'A-Grey'),\n",
    "    ('Yaksoba', 'Black'),\n",
    "    ('Barata', 'Red')\n",
    ")\n",
    "favoritas = defaultdict(list)\n",
    "for name, cor in cores:\n",
    "    favoritas[name].append(cor)\n",
    "\n",
    "print(favoritas)"
   ]
  },
  {
   "cell_type": "code",
   "execution_count": 136,
   "id": "a38e1698-81c7-44ca-aed7-8dd51b6f0987",
   "metadata": {},
   "outputs": [
    {
     "ename": "KeyError",
     "evalue": "'Carros'",
     "output_type": "error",
     "traceback": [
      "\u001b[0;31m---------------------------------------------------------------------------\u001b[0m",
      "\u001b[0;31mKeyError\u001b[0m                                  Traceback (most recent call last)",
      "Cell \u001b[0;32mIn[136], line 2\u001b[0m\n\u001b[1;32m      1\u001b[0m some_dict \u001b[38;5;241m=\u001b[39m {}\n\u001b[0;32m----> 2\u001b[0m \u001b[43msome_dict\u001b[49m\u001b[43m[\u001b[49m\u001b[38;5;124;43m'\u001b[39;49m\u001b[38;5;124;43mCarros\u001b[39;49m\u001b[38;5;124;43m'\u001b[39;49m\u001b[43m]\u001b[49m[\u001b[38;5;124m'\u001b[39m\u001b[38;5;124mFavoritos\u001b[39m\u001b[38;5;124m'\u001b[39m] \u001b[38;5;241m=\u001b[39m \u001b[38;5;124m'\u001b[39m\u001b[38;5;124mCorsa\u001b[39m\u001b[38;5;124m'\u001b[39m\n",
      "\u001b[0;31mKeyError\u001b[0m: 'Carros'"
     ]
    }
   ],
   "source": [
    "some_dict = {}\n",
    "some_dict['Carros']['Favoritos'] = 'Corsa'"
   ]
  },
  {
   "cell_type": "code",
   "execution_count": 137,
   "id": "55f0af55-9ea3-4766-8882-615cb7967c70",
   "metadata": {},
   "outputs": [
    {
     "data": {
      "text/plain": [
       "defaultdict(<function __main__.<lambda>()>,\n",
       "            {'Carros': defaultdict(<function __main__.<lambda>()>,\n",
       "                         {'Favoritos': 'Corsa'})})"
      ]
     },
     "execution_count": 137,
     "metadata": {},
     "output_type": "execute_result"
    }
   ],
   "source": [
    "from collections import defaultdict\n",
    "tree = lambda: defaultdict(tree)\n",
    "\n",
    "some_dict = tree()\n",
    "some_dict['Carros']['Favoritos'] = 'Corsa'\n",
    "some_dict"
   ]
  },
  {
   "cell_type": "code",
   "execution_count": 138,
   "id": "df485788-d374-4028-ba40-9823cf92bc5d",
   "metadata": {},
   "outputs": [
    {
     "name": "stdout",
     "output_type": "stream",
     "text": [
      "{\"Carros\": {\"Favoritos\": \"Corsa\"}}\n"
     ]
    }
   ],
   "source": [
    "import json\n",
    "print(json.dumps(some_dict))"
   ]
  },
  {
   "cell_type": "code",
   "execution_count": null,
   "id": "41d2c597-5843-42eb-9084-aa9cccd3258a",
   "metadata": {},
   "outputs": [],
   "source": []
  }
 ],
 "metadata": {
  "kernelspec": {
   "display_name": "Python 3 (ipykernel)",
   "language": "python",
   "name": "python3"
  },
  "language_info": {
   "codemirror_mode": {
    "name": "ipython",
    "version": 3
   },
   "file_extension": ".py",
   "mimetype": "text/x-python",
   "name": "python",
   "nbconvert_exporter": "python",
   "pygments_lexer": "ipython3",
   "version": "3.9.2"
  }
 },
 "nbformat": 4,
 "nbformat_minor": 5
}
