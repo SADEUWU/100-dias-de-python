{
 "cells": [
  {
   "cell_type": "markdown",
   "id": "a2b2e7e3-f1d5-4c11-b1a3-ebbe2d883b06",
   "metadata": {},
   "source": [
    "# Python II - Aula 02\n",
    "\n",
    "Conceitos Chaves\n",
    "\n",
    "- Variáveis de parâmetros\n",
    "- Geradores\n",
    "- Estrutura de Dados"
   ]
  },
  {
   "cell_type": "markdown",
   "id": "7f32557f-d2b5-4a5a-a2c9-37428684afcb",
   "metadata": {},
   "source": [
    "## Variáveis"
   ]
  },
  {
   "cell_type": "code",
   "execution_count": 7,
   "id": "07f58111-78e6-4af2-97e7-15dabcda5630",
   "metadata": {},
   "outputs": [
    {
     "name": "stdout",
     "output_type": "stream",
     "text": [
      "Primeiro argumento: 10\n",
      "<class 'tuple'>\n",
      "Outro: 20\n",
      "Outro: 30\n",
      "Outro: 40.0\n",
      "Outro: 50\n"
     ]
    }
   ],
   "source": [
    "def test_var_args(f_arg, *args):\n",
    "    print(\"Primeiro argumento:\", f_arg)\n",
    "    print(type(args))\n",
    "    for a in args:\n",
    "        print(\"Outro:\", a)\n",
    "\n",
    "test_var_args(10, '20', 30, 40.0, 50)"
   ]
  },
  {
   "cell_type": "code",
   "execution_count": 9,
   "id": "25e9a534-77fd-49d0-859e-ee1f805dfe97",
   "metadata": {},
   "outputs": [],
   "source": [
    "def test_var_args(*args):\n",
    "    for a in args:\n",
    "        print(\"Outro:\", a)\n",
    "\n",
    "test_var_args(10, 20, 30)"
   ]
  },
  {
   "cell_type": "code",
   "execution_count": 11,
   "id": "45aa7f8f-07af-4964-a757-e5cde4f3c9c1",
   "metadata": {},
   "outputs": [
    {
     "name": "stdout",
     "output_type": "stream",
     "text": [
      "{'t': 10, 'p': 20, 'i': 30}\n"
     ]
    }
   ],
   "source": [
    "def test(**kwargs):\n",
    "    print(kwargs)\n",
    "\n",
    "test(t=10,p=20,i=30)"
   ]
  },
  {
   "cell_type": "markdown",
   "id": "c0eeee7f-2cb4-4a22-b5a6-0b412d67a71a",
   "metadata": {},
   "source": [
    "## Geradores"
   ]
  },
  {
   "cell_type": "code",
   "execution_count": 13,
   "id": "2b8742bc-2e6c-4d10-827a-37cdf57446bc",
   "metadata": {},
   "outputs": [
    {
     "name": "stdout",
     "output_type": "stream",
     "text": [
      "0 1 2 3 4 5 6 7 8 9 10 11 12 13 14 15 16 17 "
     ]
    }
   ],
   "source": [
    "def fun_generator():\n",
    "    for i in range(18):\n",
    "        yield i\n",
    "\n",
    "\n",
    "for x in fun_generator():\n",
    "    print(x, end=' ')"
   ]
  },
  {
   "cell_type": "code",
   "execution_count": 15,
   "id": "c726339a-46af-4c55-8652-ea02be9f0add",
   "metadata": {},
   "outputs": [
    {
     "name": "stdout",
     "output_type": "stream",
     "text": [
      "1 1 2 3 5 8 13 21 34 55 89 144 233 377 610 "
     ]
    }
   ],
   "source": [
    "def fibon(n):\n",
    "    a = b = 1\n",
    "    for i in range(n):\n",
    "        yield a\n",
    "        a, b = b, a + b\n",
    "\n",
    "for i in fibon(15):\n",
    "    print(i, end = ' ')"
   ]
  },
  {
   "cell_type": "code",
   "execution_count": 21,
   "id": "76378d54-4390-400e-ab92-47757ad76173",
   "metadata": {},
   "outputs": [
    {
     "name": "stdout",
     "output_type": "stream",
     "text": [
      "0\n",
      "1\n",
      "2\n"
     ]
    }
   ],
   "source": [
    "def novo_gen():\n",
    "    for n in range(3):\n",
    "        yield n\n",
    "\n",
    "g = novo_gen()\n",
    "type(g)\n",
    "print(next(g))\n",
    "print(next(g))\n",
    "print(next(g))"
   ]
  },
  {
   "cell_type": "code",
   "execution_count": 24,
   "id": "e309d53a-01ed-4061-9f86-1199a18b66df",
   "metadata": {},
   "outputs": [
    {
     "data": {
      "text/plain": [
       "'Y'"
      ]
     },
     "execution_count": 24,
     "metadata": {},
     "output_type": "execute_result"
    }
   ],
   "source": [
    "mst = \"Yaksoba\"\n",
    "myIt = iter(mst) \n",
    "next(myIt)"
   ]
  },
  {
   "cell_type": "markdown",
   "id": "bd18b0f5-2735-4f0a-96f0-a180e5deac84",
   "metadata": {},
   "source": [
    "## Map, Filter e Reduce\n",
    "map - itera elemento a elemento (itera 1 a 1)<br>\n",
    "filter - elimina elementos que não contém os dados necessários (itera 1 a 1)<br>\n",
    "reduce - transforma a lista em 1 elemento (itera 2 a 2)"
   ]
  },
  {
   "cell_type": "code",
   "execution_count": 26,
   "id": "3ad97893-e761-497d-858a-609a5aba4f41",
   "metadata": {},
   "outputs": [
    {
     "name": "stdout",
     "output_type": "stream",
     "text": [
      "[1, 4, 9, 16, 25]\n"
     ]
    }
   ],
   "source": [
    "itens = [1,2,3,4,5]\n",
    "elevado = []\n",
    "for i in itens:\n",
    "    elevado.append(i**2)\n",
    "\n",
    "print(elevado)"
   ]
  },
  {
   "cell_type": "code",
   "execution_count": 27,
   "id": "7c690a3c-47e3-4f4e-92f6-cda3ddb39e70",
   "metadata": {},
   "outputs": [
    {
     "name": "stdout",
     "output_type": "stream",
     "text": [
      "[1, 4, 9, 16, 25]\n"
     ]
    }
   ],
   "source": [
    "itens = [1,2,3,4,5]\n",
    "elevado = list(map(lambda x:x**2, itens))\n",
    "print(elevado)"
   ]
  },
  {
   "cell_type": "code",
   "execution_count": 28,
   "id": "96c8367e-d980-4215-a1ca-0650503c4faf",
   "metadata": {},
   "outputs": [
    {
     "name": "stdout",
     "output_type": "stream",
     "text": [
      "[0, 0]\n",
      "[1, 2]\n",
      "[4, 4]\n",
      "[9, 6]\n",
      "[16, 8]\n",
      "[25, 10]\n",
      "[36, 12]\n",
      "[49, 14]\n",
      "[64, 16]\n",
      "[81, 18]\n"
     ]
    }
   ],
   "source": [
    "def mult(x):\n",
    "    return x*x\n",
    "\n",
    "def add(x):\n",
    "    return x+x\n",
    "\n",
    "funcs = [mult, add]\n",
    "\n",
    "for i in range(10):\n",
    "    value = list(map(lambda x:x(i), funcs))\n",
    "    print(value)"
   ]
  },
  {
   "cell_type": "code",
   "execution_count": 29,
   "id": "ecd02cfe-4377-4b2e-a5e8-3806df5bba68",
   "metadata": {},
   "outputs": [
    {
     "name": "stdout",
     "output_type": "stream",
     "text": [
      "[-5, -4, -3, -2, -1]\n"
     ]
    }
   ],
   "source": [
    "# Filter\n",
    "numLst = range(-5,6)\n",
    "menorQ0 = list(filter(lambda x: x < 0, numLst))\n",
    "print(menorQ0)"
   ]
  },
  {
   "cell_type": "code",
   "execution_count": 30,
   "id": "97ce93cc-2df9-4359-890e-879cfdd9ef07",
   "metadata": {},
   "outputs": [
    {
     "name": "stdout",
     "output_type": "stream",
     "text": [
      "24\n"
     ]
    }
   ],
   "source": [
    "# Reduce\n",
    "prod = 1\n",
    "lista = [1,2,3,4]\n",
    "for num in lista:\n",
    "    prod = prod * num\n",
    "\n",
    "print(prod)"
   ]
  },
  {
   "cell_type": "code",
   "execution_count": 59,
   "id": "92f38fa3-1107-4f30-ac08-eef9e0c08125",
   "metadata": {},
   "outputs": [
    {
     "name": "stdout",
     "output_type": "stream",
     "text": [
      "-3 0\n",
      "False 1\n",
      "False 4\n",
      "False\n"
     ]
    }
   ],
   "source": [
    "def calc(x,y):\n",
    "    print(x,y)\n",
    "    return x>y\n",
    "\n",
    "from functools import reduce\n",
    "prod = reduce(lambda x,y: calc(x,y),[-3,0,1,4])\n",
    "# prod = reduce((lambda x,y: x*y),[1,2,3,4])\n",
    "print(prod)"
   ]
  },
  {
   "cell_type": "markdown",
   "id": "991f3002-f6ce-45d6-9d8b-e6d109a113f1",
   "metadata": {},
   "source": [
    "## Estruturas de Dados"
   ]
  },
  {
   "cell_type": "code",
   "execution_count": 63,
   "id": "420e9ba8-447d-4145-81d2-c8d373502b46",
   "metadata": {},
   "outputs": [
    {
     "name": "stdout",
     "output_type": "stream",
     "text": [
      "['h', 'd']\n"
     ]
    }
   ],
   "source": [
    "alista = ['a','b','h','c','d','e','h','d','f','g','h']\n",
    "dupl = []\n",
    "for v in alista:\n",
    "    if alista.count(v) > 1:\n",
    "        if v not in dupl:\n",
    "            dupl.append(v)\n",
    "\n",
    "print(dupl)"
   ]
  },
  {
   "cell_type": "code",
   "execution_count": 64,
   "id": "5d59c973-6db6-4ef1-9e3b-6bc91c9c957d",
   "metadata": {},
   "outputs": [
    {
     "name": "stdout",
     "output_type": "stream",
     "text": [
      "{'d', 'h'}\n"
     ]
    }
   ],
   "source": [
    "slista = ['a','b','h','c','h','d','e','d','f','g','h']\n",
    "sdupl = set([x for x in slista if slista.count(x) > 1])\n",
    "print(sdupl)"
   ]
  },
  {
   "cell_type": "code",
   "execution_count": 67,
   "id": "3c2373aa-7adb-4b31-af88-32acd7dd55de",
   "metadata": {},
   "outputs": [
    {
     "name": "stdout",
     "output_type": "stream",
     "text": [
      "{'vermelho', 'azul'}\n"
     ]
    }
   ],
   "source": [
    "# intersecção\n",
    "cor1 = {'amarelo', 'vermelho', 'azul', 'verde', 'preto'}\n",
    "cor2 = set(['vermelho', 'marron'])\n",
    "\n",
    "print(cor1.intersection(cor2))"
   ]
  },
  {
   "cell_type": "code",
   "execution_count": 68,
   "id": "f1987330-9efe-4c9f-93a8-57067d64ff28",
   "metadata": {},
   "outputs": [
    {
     "name": "stdout",
     "output_type": "stream",
     "text": [
      "{'amarelo', 'preto', 'azul', 'verde'}\n",
      "{'marron'}\n"
     ]
    }
   ],
   "source": [
    "# diferença\n",
    "cor1 = {'amarelo', 'vermelho', 'azul', 'verde', 'preto'}\n",
    "cor2 = set(['vermelho', 'marron'])\n",
    "\n",
    "print(cor1.difference(cor2)) # Area 1\n",
    "print(cor2.difference(cor1)) # Area 2"
   ]
  },
  {
   "cell_type": "markdown",
   "id": "bb6dd42c-dd71-4cba-8951-33929652d553",
   "metadata": {},
   "source": [
    "## Ternários"
   ]
  },
  {
   "cell_type": "code",
   "execution_count": 69,
   "id": "a04b402b-8ff9-410b-a676-ce99ccda332e",
   "metadata": {},
   "outputs": [
    {
     "name": "stdout",
     "output_type": "stream",
     "text": [
      "Legal\n"
     ]
    }
   ],
   "source": [
    "eh_legal = True\n",
    "estado = \"Legal\" if eh_legal else \"Não é Legal\"\n",
    "print(estado)"
   ]
  },
  {
   "cell_type": "code",
   "execution_count": 71,
   "id": "bc500c8a-d0c7-4735-97ad-31af96cf1cda",
   "metadata": {},
   "outputs": [
    {
     "name": "stdout",
     "output_type": "stream",
     "text": [
      "Não é Legal\n"
     ]
    }
   ],
   "source": [
    "eh_legal = True\n",
    "estado = (\"Não é Legal\", \"Legal\")[eh_legal]\n",
    "print(estado)"
   ]
  },
  {
   "cell_type": "code",
   "execution_count": 73,
   "id": "820c118d-ff48-45a7-bafa-e2aae87df019",
   "metadata": {},
   "outputs": [
    {
     "name": "stdout",
     "output_type": "stream",
     "text": [
      "2\n"
     ]
    }
   ],
   "source": [
    "cond = False\n",
    "print(1/0 if cond else 2)"
   ]
  },
  {
   "cell_type": "code",
   "execution_count": 76,
   "id": "637fdc26-9712-4045-8b89-07953307661c",
   "metadata": {},
   "outputs": [
    {
     "name": "stdout",
     "output_type": "stream",
     "text": [
      "Alguma coisa\n"
     ]
    }
   ],
   "source": [
    "# shorthand\n",
    "print(True and \"Alguma coisa\")"
   ]
  },
  {
   "cell_type": "code",
   "execution_count": 78,
   "id": "390064d5-0708-488e-9dfc-d7bf9fdafa77",
   "metadata": {},
   "outputs": [
    {
     "name": "stdout",
     "output_type": "stream",
     "text": [
      "Alguma coisa\n"
     ]
    }
   ],
   "source": [
    "print(False or \"Alguma coisa\")"
   ]
  },
  {
   "cell_type": "code",
   "execution_count": 80,
   "id": "710c1f32-b4f0-41ef-90a0-3fd4d6a4babc",
   "metadata": {},
   "outputs": [
    {
     "name": "stdout",
     "output_type": "stream",
     "text": [
      "Fernando Anselmo\n"
     ]
    }
   ],
   "source": [
    "def myf(nomereal, valoropc=None):\n",
    "    valoropc = valoropc or nomereal\n",
    "    print(valoropc)\n",
    "\n",
    "myf(\"Fernando\", \"Fernando Anselmo\")"
   ]
  },
  {
   "cell_type": "code",
   "execution_count": null,
   "id": "7504171b-be9b-402e-abcd-815fe6b8ca97",
   "metadata": {},
   "outputs": [],
   "source": []
  }
 ],
 "metadata": {
  "kernelspec": {
   "display_name": "Python 3 (ipykernel)",
   "language": "python",
   "name": "python3"
  },
  "language_info": {
   "codemirror_mode": {
    "name": "ipython",
    "version": 3
   },
   "file_extension": ".py",
   "mimetype": "text/x-python",
   "name": "python",
   "nbconvert_exporter": "python",
   "pygments_lexer": "ipython3",
   "version": "3.9.2"
  }
 },
 "nbformat": 4,
 "nbformat_minor": 5
}
